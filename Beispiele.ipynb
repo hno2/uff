{
 "cells": [
  {
   "cell_type": "code",
   "execution_count": null,
   "metadata": {},
   "outputs": [],
   "source": [
    "!pip install transformers"
   ]
  },
  {
   "cell_type": "markdown",
   "metadata": {},
   "source": [
    "# Sentiment Analysis\n",
    "Versucht die Stimmung (positiv, negativ oder neutral) einer Bewertung z.B. eines Restaurants vorherzusagen."
   ]
  },
  {
   "cell_type": "code",
   "execution_count": 14,
   "metadata": {},
   "outputs": [
    {
     "name": "stdout",
     "output_type": "stream",
     "text": [
      "[{'label': 'negative', 'score': 0.9975765943527222}, {'label': 'negative', 'score': 0.9989897608757019}, {'label': 'positive', 'score': 0.9930871725082397}, {'label': 'positive', 'score': 0.9794018268585205}, {'label': 'neutral', 'score': 0.9982168674468994}, {'label': 'neutral', 'score': 0.9987679123878479}]\n"
     ]
    }
   ],
   "source": [
    "from transformers import pipeline\n",
    "\n",
    "classifier = pipeline(\"sentiment-analysis\", model=\"oliverguhr/german-sentiment-bert\")\n",
    "texts = [\n",
    "    \"Mit keinem guten Ergebniss\",  # negativ\n",
    "    \"Das ist gar nicht mal so gut\",  # negativ\n",
    "    \"Total super!\",  # positiv\n",
    "    \"nicht so schlecht wie erwartet\",  # positiv\n",
    "    \"Der Test verlief positiv.\",  # neutral\n",
    "    \"Sie fährt ein grünes Auto.\",  # neutral\n",
    "]\n",
    "outputs = classifier(texts)\n",
    "\n",
    "print(outputs)"
   ]
  },
  {
   "cell_type": "markdown",
   "metadata": {},
   "source": [
    "## Zero-Shot Tasks\n"
   ]
  },
  {
   "cell_type": "code",
   "execution_count": 16,
   "metadata": {},
   "outputs": [
    {
     "name": "stdout",
     "output_type": "stream",
     "text": [
      "MCO, BOS\n"
     ]
    }
   ],
   "source": [
    "from transformers import pipeline\n",
    "# Warning! This model is about 10GB in size!\n",
    "generator = pipeline('text-generation', model='EleutherAI/gpt-neo-2.7B')\n",
    "prompt=\"\"\"\n",
    "Airport code extractor:\n",
    " \n",
    "Text: \"I want to fly form Los Angeles to Miami.\" \n",
    "Airport codes: LAX, MIA \n",
    "\n",
    "Text: \"I want to fly from Orlando to Boston\" \n",
    "Airport codes:\"\"\"\n",
    "generator(prompt, do_sample=True, min_length=50)"
   ]
  },
  {
   "cell_type": "markdown",
   "metadata": {},
   "source": [
    "### Zero-Shot Classification\n",
    "Das Modell hat genug Wissen über Sprache um Anweisungen auch in natürlicher Sprache zu erhalten. Achtung diese Modelle sind groß (~1,5GB), am Besten mit stabiler Internetverbindung ausprobieren."
   ]
  },
  {
   "cell_type": "code",
   "execution_count": 11,
   "metadata": {},
   "outputs": [],
   "source": [
    "from transformers import pipeline\n",
    "\n",
    "classifier = pipeline(\"zero-shot-classification\", model=\"Sahajtomar/German_Zeroshot\")\n",
    "sequences = [\n",
    "    \"Letzte Woche gab es einen Mord im nahe gelegenen Ort Unterweiler.\",\n",
    "    \"Die meisten Menschen sind geimpft. Trotzdem steigen die Infektionsahlen. Soll ich noch auf eine Geburtstagsfeier oder Hochzeit gehen? Das raten Expertinnen und Experten.\",\n",
    "    \"Letzes Jahr wurden 15% weniger Ladendiebstähle verübt.\",\n",
    "    \"Am 19. Februar jährt sich der Anschlag in Hanau, bei dem neun Menschen mit Migrationshintergrund gezielt erschossen wurden.\",\n",
    "    \"Ziel des  Handelns muss es sein, langfristig zu denken und ökonomische und ökologische Lösungen zu schaffen, die auch für künftige Generationen von Vorteil sind.\",\n",
    "]\n",
    "candidate_labels = [\"Verbrechen\", \"Krankheit\", \"Rassissmus\", \"Nachhaltigkeit\"]\n",
    "hypothesis_template = \"In diesem geht es um {}.\"\n",
    "outputs = classifier(\n",
    "    sequences, candidate_labels, hypothesis_template=hypothesis_template\n",
    ")\n"
   ]
  },
  {
   "cell_type": "code",
   "execution_count": 12,
   "metadata": {},
   "outputs": [
    {
     "name": "stdout",
     "output_type": "stream",
     "text": [
      "Verbrechen\n",
      "Krankheit\n",
      "Verbrechen\n",
      "Rassissmus\n",
      "Nachhaltigkeit\n"
     ]
    },
    {
     "data": {
      "text/plain": [
       "[None, None, None, None, None]"
      ]
     },
     "execution_count": 12,
     "metadata": {},
     "output_type": "execute_result"
    }
   ],
   "source": [
    "[print(output[\"labels\"][0]) for output in outputs]"
   ]
  }
 ],
 "metadata": {
  "interpreter": {
   "hash": "6355f3a5f3389c9620ca0e58557609ca19d1ce52ae21b64fa29587e98e996558"
  },
  "kernelspec": {
   "display_name": "Python 3.9.4 64-bit ('ma': conda)",
   "name": "python3"
  },
  "language_info": {
   "codemirror_mode": {
    "name": "ipython",
    "version": 3
   },
   "file_extension": ".py",
   "mimetype": "text/x-python",
   "name": "python",
   "nbconvert_exporter": "python",
   "pygments_lexer": "ipython3",
   "version": "3.9.4"
  },
  "orig_nbformat": 4
 },
 "nbformat": 4,
 "nbformat_minor": 2
}
